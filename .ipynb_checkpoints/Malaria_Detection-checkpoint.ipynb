{
 "cells": [
  {
   "cell_type": "code",
   "execution_count": 1,
   "id": "0307d55c",
   "metadata": {},
   "outputs": [],
   "source": [
    "import os\n",
    "import pandas as pd\n",
    "import numpy as np\n",
    "import seaborn as sns\n",
    "import matplotlib.pyplot as plt\n",
    "from matplotlib.image import imread"
   ]
  },
  {
   "cell_type": "code",
   "execution_count": 3,
   "id": "83fc642f",
   "metadata": {},
   "outputs": [],
   "source": [
    "# Téléchargement et extraction du fichier zip\n",
    "import requests, zipfile, io\n",
    "zip_file_url = 'https://moncoachdata.com/wp-content/uploads/cell_images.zip'\n",
    "r = requests.get(zip_file_url)\n",
    "z = zipfile.ZipFile(io.BytesIO(r.content))\n",
    "z.extractall()\n"
   ]
  },
  {
   "cell_type": "code",
   "execution_count": 4,
   "id": "3617d8ae",
   "metadata": {},
   "outputs": [],
   "source": [
    "data_dir = 'cell_images/'"
   ]
  },
  {
   "cell_type": "code",
   "execution_count": 5,
   "id": "96f4b3b9",
   "metadata": {},
   "outputs": [
    {
     "data": {
      "text/plain": [
       "['test', 'train']"
      ]
     },
     "execution_count": 5,
     "metadata": {},
     "output_type": "execute_result"
    }
   ],
   "source": [
    "os.listdir(data_dir)"
   ]
  },
  {
   "cell_type": "code",
   "execution_count": 9,
   "id": "5f499354",
   "metadata": {},
   "outputs": [],
   "source": [
    "test_path = data_dir + 'test/'"
   ]
  },
  {
   "cell_type": "code",
   "execution_count": 10,
   "id": "db7c707e",
   "metadata": {},
   "outputs": [],
   "source": [
    "train_path = data_dir + 'train/'"
   ]
  },
  {
   "cell_type": "code",
   "execution_count": 11,
   "id": "7ca0852f",
   "metadata": {},
   "outputs": [
    {
     "data": {
      "text/plain": [
       "'cell_images/test/'"
      ]
     },
     "execution_count": 11,
     "metadata": {},
     "output_type": "execute_result"
    }
   ],
   "source": [
    "test_path"
   ]
  },
  {
   "cell_type": "code",
   "execution_count": null,
   "id": "2fa9681f",
   "metadata": {
    "collapsed": true
   },
   "outputs": [],
   "source": []
  }
 ],
 "metadata": {
  "kernelspec": {
   "display_name": "Python 3 (ipykernel)",
   "language": "python",
   "name": "python3"
  },
  "language_info": {
   "codemirror_mode": {
    "name": "ipython",
    "version": 3
   },
   "file_extension": ".py",
   "mimetype": "text/x-python",
   "name": "python",
   "nbconvert_exporter": "python",
   "pygments_lexer": "ipython3",
   "version": "3.9.12"
  }
 },
 "nbformat": 4,
 "nbformat_minor": 5
}
